{
 "cells": [
  {
   "cell_type": "code",
   "execution_count": 7,
   "metadata": {
    "colab": {
     "base_uri": "https://localhost:8080/",
     "height": 381
    },
    "executionInfo": {
     "elapsed": 201,
     "status": "error",
     "timestamp": 1663191129959,
     "user": {
      "displayName": "Carson Krol",
      "userId": "01146034089041355739"
     },
     "user_tz": 240
    },
    "id": "H1e_eI8r6ZdO",
    "outputId": "b25a4d26-98c9-4b86-afd5-b1c28427ef18"
   },
   "outputs": [
    {
     "name": "stderr",
     "output_type": "stream",
     "text": [
      "C:\\Users\\Carso\\AppData\\Local\\Temp\\ipykernel_19964\\988981234.py:39: SettingWithCopyWarning:\n",
      "\n",
      "\n",
      "A value is trying to be set on a copy of a slice from a DataFrame.\n",
      "Try using .loc[row_indexer,col_indexer] = value instead\n",
      "\n",
      "See the caveats in the documentation: https://pandas.pydata.org/pandas-docs/stable/user_guide/indexing.html#returning-a-view-versus-a-copy\n",
      "\n"
     ]
    }
   ],
   "source": [
    "import pandas as pd\n",
    "import csv\n",
    "from datetime import datetime\n",
    "from datetime import time\n",
    "\n",
    "df = pd.read_csv('TNP-trips.csv') #reading in csv file\n",
    "df = df.loc[:, ['Trip Start Timestamp', 'Trip Seconds', 'Trip Miles', 'Fare', 'Tip', 'Trip Total']] #selecting relevant columns\n",
    "all_tip_df = df[df['Tip'] > 0] # creating separate dataframe that only includes tipped rides\n",
    "\n",
    "time = []\n",
    "tipfare = []\n",
    "tipmile = []\n",
    "\n",
    "time2 = []\n",
    "\n",
    "for i in range(len(df)):\n",
    "    timeslot = (df.iloc[i,0])\n",
    "    tip = float(df.iloc[i,4])\n",
    "    miles = float(df.iloc[i,2])\n",
    "    fare = float(df.iloc[i,3])\n",
    "    if fare > 0:\n",
    "        tipfare.append(tip/fare)\n",
    "    else:\n",
    "        tipfare.append(0)\n",
    "    if miles > 0:\n",
    "        tipmile.append(tip/miles)\n",
    "    else:\n",
    "        tipmile.append(0)\n",
    "    time.append(datetime.strptime(timeslot, \"%m/%d/%Y %H:%M\").time())\n",
    "    \n",
    "for i in range(len(all_tip_df)):\n",
    "    timeslot = (all_tip_df.iloc[i,0])\n",
    "    time2.append(datetime.strptime(timeslot, \"%m/%d/%Y %H:%M\").time())\n",
    "\n",
    "df['Time'] = time\n",
    "df['Tip/Fare'] = tipfare\n",
    "df['Tip/Mile'] = tipmile\n",
    "\n",
    "all_tip_df['Time'] = time2\n",
    "\n",
    "df = df.groupby(['Time']).mean()\n",
    "all_tip_df = all_tip_df.groupby(['Time']).mean()\n",
    "\n",
    "tiprate = []\n",
    "nontiprate = []\n",
    "for i in range(len(df)):\n",
    "    expectedTip = float(df.iloc[i,2])\n",
    "    nonzeroTip = float(all_tip_df.iloc[i,2])\n",
    "    percent = (expectedTip/nonzeroTip) * 100\n",
    "    tiprate.append(percent)\n",
    "    nontiprate.append(100 - percent)\n",
    "df['Tip Rate'] = tiprate\n",
    "df['Non-Tip Rate'] = nontiprate\n",
    "\n",
    "df = df.reset_index()\n",
    "all_tip_df = all_tip_df.reset_index()"
   ]
  },
  {
   "cell_type": "code",
   "execution_count": 10,
   "metadata": {
    "id": "ziqqVUlS6ZdW"
   },
   "outputs": [],
   "source": [
    "import plotly.express as px\n",
    "\n",
    "def graph(Selection):\n",
    "    if Selection == 'Tip Rate':\n",
    "        fig = px.line(df, x='Time', y = 'Tip Rate', labels={'Tip Rate':'Tip Rate (%)', 'Time':'Time of Day'})\n",
    "        fig.show()\n",
    "    if Selection == 'Average Non-Zero Tip':\n",
    "        fig = px.line(all_tip_df, x='Time', y='Tip', labels={'Tip':'Average Non-Zero Tip ($)', 'Time':'Time of Day'})\n",
    "        fig.show()\n",
    "    if Selection == 'Average Expected Tip':\n",
    "        fig = px.line(df, x='Time', y = 'Tip', labels={'Tip':'Average Expected Tip ($)', 'Time':'Time of Day'})\n",
    "        fig.show()\n",
    "        \n",
    "def ratioplot(trend, Add_Trendline):\n",
    "    if trend == 'Fare':\n",
    "        if Add_Trendline == 'Yes':\n",
    "            fig3 = px.scatter(df, x='Fare', y='Tip', trendline=\"ols\")\n",
    "        else:\n",
    "            fig3 = px.scatter(df, x='Fare', y='Tip')\n",
    "        fig3.show()\n",
    "    if trend == 'Miles':\n",
    "        if Add_Trendline == 'Yes':\n",
    "            fig3 = px.scatter(df, x='Trip Miles', y='Tip', trendline=\"ols\")\n",
    "        else:\n",
    "            fig3 = px.scatter(df, x='Trip Miles', y='Tip')\n",
    "        fig3.show()\n",
    "\n",
    "def recommend(time):\n",
    "    global df\n",
    "    df = df.groupby(['Time']).mean()\n",
    "    time = datetime.strptime(time, \"%H:%M\").time()\n",
    "    avg = 0.4867473\n",
    "    current = (df.loc[time])['Tip']\n",
    "    if current / avg >= 1.5:\n",
    "        sub1 = '<font color=\"green\">Great!!</font>'\n",
    "        sub2 = '{}% higher than'.format(int((current/avg)*100) - 100)\n",
    "    elif current / avg > 1:\n",
    "        sub1 = '<font color=\"green\">Good</font>'\n",
    "        sub2 = '{}% higher than'.format(int((current/avg)*100) - 100)\n",
    "    elif current / avg == 1:\n",
    "        sub1 = '<font color=\"yellow\">Neutral</font>'\n",
    "        sub2 = 'equal to'\n",
    "    elif current / avg <= 0.5:\n",
    "        sub1 = '<font color=\"red\">BAD</font>'\n",
    "        sub2 = '{}% lower than'.format(100 - int((current/avg)*100))\n",
    "    else:\n",
    "        sub1 = '<font color=\"red\">Poor</font>'\n",
    "        sub2 = '{}% lower than'.format(100 - int((current/avg)*100))\n",
    "    html_string3 = '<font size=\"3\">The projection for this time of day is:</font> <font size=\"4\"><b>{}</b></font>'.format(sub1)\n",
    "    html_string4 = '<font size=\"3\">You can expect a tip of \\${:.2f}, which is {} the average of \\$0.49</font>'.format(current, sub2)\n",
    "    display(HTML(html_string3))\n",
    "    display(HTML(html_string4))\n",
    "    df = df.reset_index()"
   ]
  },
  {
   "cell_type": "code",
   "execution_count": 11,
   "metadata": {
    "colab": {
     "referenced_widgets": [
      "5cf07444c06a41e08a88220b2e656373",
      "26b9aa45faf044f683ed44803e5cf5af",
      "e6d258c2097043588ac080f949209761"
     ]
    },
    "id": "j6DNUYSS6ZdY",
    "outputId": "a51eb979-ab56-47ff-cfe8-4a34540da963",
    "scrolled": true
   },
   "outputs": [
    {
     "data": {
      "text/html": [
       "<h1><center><u>Rideshare Tipping in the City of Chicago</u></center></h1>"
      ],
      "text/plain": [
       "<IPython.core.display.HTML object>"
      ]
     },
     "metadata": {},
     "output_type": "display_data"
    },
    {
     "data": {
      "text/html": [
       "<center><body style=\"font-size:450px;\">You can access the data source <body style=\"color:#FFFF00;\"><a href=https://data.cityofchicago.org/Transportation/Transportation-Network-Providers-Trips/m6dm-c72p>here</a></body>.</body></center>"
      ],
      "text/plain": [
       "<IPython.core.display.HTML object>"
      ]
     },
     "metadata": {},
     "output_type": "display_data"
    },
    {
     "name": "stdout",
     "output_type": "stream",
     "text": [
      "\n",
      "This visualization depicts a variety of tipping metrics and their trends throughout the day.\n",
      "Select a metric to visualize:\n"
     ]
    },
    {
     "data": {
      "application/vnd.jupyter.widget-view+json": {
       "model_id": "406ee2412b0d4cf891a7802156084eb0",
       "version_major": 2,
       "version_minor": 0
      },
      "text/plain": [
       "interactive(children=(Dropdown(description='Selection', options=('Tip Rate', 'Average Non-Zero Tip', 'Average …"
      ]
     },
     "metadata": {},
     "output_type": "display_data"
    },
    {
     "name": "stdout",
     "output_type": "stream",
     "text": [
      "\n",
      "Now explore the relationship between tips and ride fare or miles traveled\n",
      "Pick a trend to explore:\n"
     ]
    },
    {
     "data": {
      "application/vnd.jupyter.widget-view+json": {
       "model_id": "926c46509c304102952d3b0ca0b42eeb",
       "version_major": 2,
       "version_minor": 0
      },
      "text/plain": [
       "interactive(children=(Dropdown(description='trend', options=('Fare', 'Miles'), value='Fare'), Dropdown(descrip…"
      ]
     },
     "metadata": {},
     "output_type": "display_data"
    },
    {
     "name": "stdout",
     "output_type": "stream",
     "text": [
      "\n"
     ]
    },
    {
     "data": {
      "text/html": [
       "<h3><center><u>Driver Tool</u></center></h3>"
      ],
      "text/plain": [
       "<IPython.core.display.HTML object>"
      ]
     },
     "metadata": {},
     "output_type": "display_data"
    },
    {
     "name": "stdout",
     "output_type": "stream",
     "text": [
      "This tool will help you decide whether it is an optimal time to be driving or if you would be better served waiting a bit.\n",
      "Enter the time of day:\n"
     ]
    },
    {
     "data": {
      "application/vnd.jupyter.widget-view+json": {
       "model_id": "f4d1e1bd1df843bcb0205062c367eec6",
       "version_major": 2,
       "version_minor": 0
      },
      "text/plain": [
       "interactive(children=(Text(value='00:00', description='time'), Output()), _dom_classes=('widget-interact',))"
      ]
     },
     "metadata": {},
     "output_type": "display_data"
    },
    {
     "name": "stdout",
     "output_type": "stream",
     "text": [
      "\n"
     ]
    }
   ],
   "source": [
    "from IPython.display import HTML, display\n",
    "from ipywidgets import interact\n",
    "\n",
    "html_string = '<h1><center><u>{}</u></center></h1>'.format('Rideshare Tipping in the City of Chicago')\n",
    "display(HTML(html_string))\n",
    "html_string2 = '<center><body style=\"font-size:450px;\">You can access the data source <body style=\"color:#FFFF00;\"><a href=https://data.cityofchicago.org/Transportation/Transportation-Network-Providers-Trips/m6dm-c72p>here</a></body>.</body></center>'\n",
    "display(HTML(html_string2))\n",
    "print()\n",
    "\n",
    "print('This visualization depicts a variety of tipping metrics and their trends throughout the day.')\n",
    "print('Select a metric to visualize:')\n",
    "interact(graph, Selection=['Tip Rate', 'Average Non-Zero Tip', 'Average Expected Tip'])\n",
    "print()\n",
    "\n",
    "print('Now explore the relationship between tips and ride fare or miles traveled')\n",
    "print('Pick a trend to explore:')\n",
    "interact(ratioplot, trend=['Fare', 'Miles'], Add_Trendline=['Yes', 'No'])\n",
    "print()\n",
    "\n",
    "html_string5 = '<h3><center><u>{}</u></center></h3>'.format('Driver Tool')\n",
    "display(HTML(html_string5))\n",
    "print('This tool will help you decide whether it is an optimal time to be driving or if you would be better served waiting a bit.')\n",
    "print('Enter the time of day:')\n",
    "interact(recommend, time='00:00')\n",
    "print()"
   ]
  }
 ],
 "metadata": {
  "colab": {
   "provenance": []
  },
  "kernelspec": {
   "display_name": "Python 3 (ipykernel)",
   "language": "python",
   "name": "python3"
  },
  "language_info": {
   "codemirror_mode": {
    "name": "ipython",
    "version": 3
   },
   "file_extension": ".py",
   "mimetype": "text/x-python",
   "name": "python",
   "nbconvert_exporter": "python",
   "pygments_lexer": "ipython3",
   "version": "3.9.12"
  }
 },
 "nbformat": 4,
 "nbformat_minor": 1
}
